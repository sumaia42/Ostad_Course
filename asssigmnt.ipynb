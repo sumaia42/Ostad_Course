{
  "nbformat": 4,
  "nbformat_minor": 0,
  "metadata": {
    "colab": {
      "provenance": [],
      "authorship_tag": "ABX9TyNejpRWjMHHjzLTy9dIHo2V",
      "include_colab_link": true
    },
    "kernelspec": {
      "name": "python3",
      "display_name": "Python 3"
    },
    "language_info": {
      "name": "python"
    }
  },
  "cells": [
    {
      "cell_type": "markdown",
      "metadata": {
        "id": "view-in-github",
        "colab_type": "text"
      },
      "source": [
        "<a href=\"https://colab.research.google.com/github/sumaia42/Ostad_Course/blob/main/asssigmnt.ipynb\" target=\"_parent\"><img src=\"https://colab.research.google.com/assets/colab-badge.svg\" alt=\"Open In Colab\"/></a>"
      ]
    },
    {
      "cell_type": "code",
      "source": [
        "import pandas as pd\n",
        "import numpy as np"
      ],
      "metadata": {
        "id": "rdR47W6Tk7do"
      },
      "execution_count": 1,
      "outputs": []
    },
    {
      "cell_type": "code",
      "source": [
        "data = {\n",
        "    'A': [0, 1, 2, 3, 4],\n",
        "    'B': [21, np.nan, 22, 34, np.nan],\n",
        "    'C': [31, np.nan, 33, np.nan, 35],\n",
        "    'D': [np.nan, np.nan, np.nan, np.nan, np.nan],\n",
        "}"
      ],
      "metadata": {
        "id": "fXJh8Tfwk2hd"
      },
      "execution_count": 2,
      "outputs": []
    },
    {
      "cell_type": "code",
      "source": [
        "df = pd.DataFrame(data)"
      ],
      "metadata": {
        "id": "l1E-eZr_k4dc"
      },
      "execution_count": 3,
      "outputs": []
    },
    {
      "cell_type": "code",
      "source": [
        "def count_nan_values(dataframe):\n",
        "    return dataframe.isnull().sum().sum()"
      ],
      "metadata": {
        "id": "5ypDnnVSlDFd"
      },
      "execution_count": 4,
      "outputs": []
    },
    {
      "cell_type": "code",
      "source": [
        "def fill_na_backward(dataframe):\n",
        "    return dataframe.bfill()"
      ],
      "metadata": {
        "id": "13yFkMTjlUCf"
      },
      "execution_count": 5,
      "outputs": []
    },
    {
      "cell_type": "code",
      "source": [
        "def fill_na_with_zero(dataframe):\n",
        "    return dataframe.fillna(0)"
      ],
      "metadata": {
        "id": "xzn-nkOPlX4i"
      },
      "execution_count": 6,
      "outputs": []
    },
    {
      "cell_type": "code",
      "source": [
        "print(\"Number of NaN values in the original DataFrame:\", count_nan_values(df))\n"
      ],
      "metadata": {
        "colab": {
          "base_uri": "https://localhost:8080/"
        },
        "id": "gLVwYb0Vlg8O",
        "outputId": "8bbcdb31-5a66-458b-b8e4-32784286d772"
      },
      "execution_count": 7,
      "outputs": [
        {
          "output_type": "stream",
          "name": "stdout",
          "text": [
            "Number of NaN values in the original DataFrame: 9\n"
          ]
        }
      ]
    },
    {
      "cell_type": "code",
      "source": [
        "def fill_na_forward(dataframe):\n",
        "    return dataframe.ffill()"
      ],
      "metadata": {
        "id": "Tu9s--A6mqQh"
      },
      "execution_count": 12,
      "outputs": []
    },
    {
      "cell_type": "code",
      "source": [
        "filled_forward = fill_na_forward(df)\n",
        "print(\"\\nDataFrame after forward fill:\")\n",
        "print(filled_forward)"
      ],
      "metadata": {
        "colab": {
          "base_uri": "https://localhost:8080/"
        },
        "id": "4vI_kwfhlj_4",
        "outputId": "e50c93aa-ffcd-412d-f214-eae53f35048d"
      },
      "execution_count": 13,
      "outputs": [
        {
          "output_type": "stream",
          "name": "stdout",
          "text": [
            "\n",
            "DataFrame after forward fill:\n",
            "   A     B     C   D\n",
            "0  0  21.0  31.0 NaN\n",
            "1  1  21.0  31.0 NaN\n",
            "2  2  22.0  33.0 NaN\n",
            "3  3  34.0  33.0 NaN\n",
            "4  4  34.0  35.0 NaN\n"
          ]
        }
      ]
    },
    {
      "cell_type": "code",
      "source": [
        "filled_backward = fill_na_backward(df)\n",
        "print(\"\\nDataFrame after backward fill:\")\n",
        "print(filled_backward)"
      ],
      "metadata": {
        "colab": {
          "base_uri": "https://localhost:8080/"
        },
        "id": "C6Xal5N6lmuc",
        "outputId": "20a74fe8-6bff-4e42-9b87-4092ffb68e87"
      },
      "execution_count": 14,
      "outputs": [
        {
          "output_type": "stream",
          "name": "stdout",
          "text": [
            "\n",
            "DataFrame after backward fill:\n",
            "   A     B     C   D\n",
            "0  0  21.0  31.0 NaN\n",
            "1  1  22.0  33.0 NaN\n",
            "2  2  22.0  33.0 NaN\n",
            "3  3  34.0  35.0 NaN\n",
            "4  4   NaN  35.0 NaN\n"
          ]
        }
      ]
    },
    {
      "cell_type": "code",
      "source": [
        "filled_with_zero = fill_na_with_zero(df)\n",
        "print(\"\\nDataFrame after '0' fill:\")\n",
        "print(filled_with_zero)"
      ],
      "metadata": {
        "colab": {
          "base_uri": "https://localhost:8080/"
        },
        "id": "CJJOzg_elvU6",
        "outputId": "716f9f1f-2cf0-4084-a302-d596fee4322d"
      },
      "execution_count": 15,
      "outputs": [
        {
          "output_type": "stream",
          "name": "stdout",
          "text": [
            "\n",
            "DataFrame after '0' fill:\n",
            "   A     B     C    D\n",
            "0  0  21.0  31.0  0.0\n",
            "1  1   0.0   0.0  0.0\n",
            "2  2  22.0  33.0  0.0\n",
            "3  3  34.0   0.0  0.0\n",
            "4  4   0.0  35.0  0.0\n"
          ]
        }
      ]
    }
  ]
}